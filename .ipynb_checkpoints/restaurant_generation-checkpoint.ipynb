{
 "cells": [
  {
   "cell_type": "code",
   "execution_count": null,
   "metadata": {},
   "outputs": [],
   "source": [
    "import random"
   ]
  },
  {
   "cell_type": "code",
   "execution_count": null,
   "metadata": {},
   "outputs": [],
   "source": [
    "def generate_restaurant(k,r):\n",
    "    '''\n",
    "    :type k: int\n",
    "    :rtype: list\n",
    "    '''\n",
    "    \n",
    "    # center of the restaurant\n",
    "    center_x = random.uniform(0, 10000)\n",
    "    center_y = random.uniform(0, 10000)\n",
    "    \n",
    "    count = 0\n",
    "    restaurants = []\n",
    "    dict_x = set([])\n",
    "    dict_y = set([])\n",
    "    while count <= k:\n",
    "        res_x = random.uniform(center_x - r, center_x + r)\n",
    "        res_y = random.uniform(center_y - r, center_y + r)\n",
    "        while res_x in dict:\n",
    "            res_x = random.uniform(center_x - r, center_x + r)\n",
    "        while res_y in dict:\n",
    "            res_y = random.uniform(center_x - r, center_x + r)\n",
    "        dict_x.add(res_x)\n",
    "        dict_y.add(res_y)\n",
    "        restaurants.append([(res_x,res_y)])\n",
    "    \n",
    "    return restaurants\n",
    "        "
   ]
  },
  {
   "cell_type": "code",
   "execution_count": null,
   "metadata": {},
   "outputs": [],
   "source": [
    "res = generate_restaurant(10,5)"
   ]
  }
 ],
 "metadata": {
  "kernelspec": {
   "display_name": "Python 3",
   "language": "python",
   "name": "python3"
  },
  "language_info": {
   "codemirror_mode": {
    "name": "ipython",
    "version": 3
   },
   "file_extension": ".py",
   "mimetype": "text/x-python",
   "name": "python",
   "nbconvert_exporter": "python",
   "pygments_lexer": "ipython3",
   "version": "3.6.4"
  }
 },
 "nbformat": 4,
 "nbformat_minor": 2
}
