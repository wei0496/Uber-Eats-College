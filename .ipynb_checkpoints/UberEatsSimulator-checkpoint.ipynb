{
 "cells": [
  {
   "cell_type": "code",
   "execution_count": 61,
   "metadata": {},
   "outputs": [],
   "source": [
    "import numpy as np\n",
    "import sys\n",
    "import math\n",
    "\n",
    "# generate random orders\n",
    "def RandomlizeOrder(size):\n",
    "    # 1,2: origin location\n",
    "    # 3,4: destination\n",
    "    # 5: ready by pickup time\n",
    "    # 6: restaurant number\n",
    "    res = []\n",
    "    for i in range(size):\n",
    "        res += [(np.random.randint(100),np.random.randint(100),np.random.randint(100),np.random.randint(100),np.random.randint(30),np.random.randint(10))]\n",
    "    return res\n",
    "\n",
    "# generate random courier locations\n",
    "def RandomlizeCourier(size):\n",
    "    # 1,2: courier geolocation\n",
    "    res = []\n",
    "    for i in range(size):\n",
    "        res += [(np.random.randint(100),np.random.randint(100))]\n",
    "    return res\n",
    "                     \n",
    "                     \n",
    "# generate total delivery time for all the orders\n",
    "def DeliveryTime(orders):\n",
    "    orders.sort(key=lambda x: x[4])\n",
    "    delivery_time = []\n",
    "    for order in orders:\n",
    "        dist = math.sqrt((order[0]-order[2])**2 + (order[1]-order[3])**2)\n",
    "        delivery_time.append(dist)\n",
    "    return delivery_time\n",
    "\n",
    "# get adjacent distances sum between orders\n",
    "def AdjacentDistance(orders, start, end):\n",
    "    res = 0.0\n",
    "    for i in range(start, end):\n",
    "        res += math.sqrt((orders[i][0]-orders[i+1][0])**2 + (orders[i][1]-orders[i+1][1])**2)\n",
    "    return res;\n",
    "    \n",
    "# assume we have n orders and m couriers\n",
    "# the function below will return the min\n",
    "def Assignment(delivery_times, couriers, orders):\n",
    "    m = len(delivery_times)\n",
    "    n = len(couriers)\n",
    "        \n",
    "    res = [[sys.maxint for x in range(n)] for x in range(m)]\n",
    "    res[0][0] = 0\n",
    "    for k in range(1,n):\n",
    "        for i in range(1,m):\n",
    "            for j in range(0,i):\n",
    "                res[i][k] = min(res[i][k], AdjacentDistance(orders,k,i) + delivery_times[i] + res[j][k-1])\n",
    "    return res[m-1][n-1]\n",
    "        \n",
    "##dp[i][m] = min(distance sum from k to i + delivery_time[i]+dp[k][m-1])    \n",
    "\n",
    "\n",
    "\n",
    "            \n"
   ]
  },
  {
   "cell_type": "code",
   "execution_count": 62,
   "metadata": {},
   "outputs": [
    {
     "name": "stdout",
     "output_type": "stream",
     "text": [
      "5160.13927574\n"
     ]
    }
   ],
   "source": [
    "orders = RandomlizeOrder(100)\n",
    "couriers = RandomlizeCourier(10)\n",
    "dt = DeliveryTime(orders)\n",
    "\n",
    "res = Assignment(dt,couriers,orders)\n",
    "\n",
    "print res"
   ]
  },
  {
   "cell_type": "code",
   "execution_count": 24,
   "metadata": {},
   "outputs": [
    {
     "name": "stdout",
     "output_type": "stream",
     "text": [
      "10\n"
     ]
    }
   ],
   "source": [
    "print len(res)"
   ]
  },
  {
   "cell_type": "code",
   "execution_count": null,
   "metadata": {},
   "outputs": [],
   "source": []
  }
 ],
 "metadata": {
  "kernelspec": {
   "display_name": "Python 3",
   "language": "python",
   "name": "python3"
  },
  "language_info": {
   "codemirror_mode": {
    "name": "ipython",
    "version": 3
   },
   "file_extension": ".py",
   "mimetype": "text/x-python",
   "name": "python",
   "nbconvert_exporter": "python",
   "pygments_lexer": "ipython3",
   "version": "3.5.1"
  }
 },
 "nbformat": 4,
 "nbformat_minor": 2
}
